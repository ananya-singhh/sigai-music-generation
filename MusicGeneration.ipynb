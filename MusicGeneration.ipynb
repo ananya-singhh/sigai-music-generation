{
  "nbformat": 4,
  "nbformat_minor": 0,
  "metadata": {
    "colab": {
      "name": "MusicGeneration.ipynb",
      "provenance": [],
      "authorship_tag": "ABX9TyN1uYeiM0Mk//BwX1q2j/zV",
      "include_colab_link": true
    },
    "kernelspec": {
      "name": "python3",
      "display_name": "Python 3"
    },
    "language_info": {
      "name": "python"
    }
  },
  "cells": [
    {
      "cell_type": "markdown",
      "metadata": {
        "id": "view-in-github",
        "colab_type": "text"
      },
      "source": [
        "<a href=\"https://colab.research.google.com/github/ananya-singhh/sigai-music-generation/blob/main/MusicGeneration.ipynb\" target=\"_parent\"><img src=\"https://colab.research.google.com/assets/colab-badge.svg\" alt=\"Open In Colab\"/></a>"
      ]
    },
    {
      "cell_type": "code",
      "source": [
        "import keras"
      ],
      "metadata": {
        "id": "dfcnvkJhD6GL"
      },
      "execution_count": 5,
      "outputs": []
    },
    {
      "cell_type": "code",
      "execution_count": 10,
      "metadata": {
        "id": "yCSlDGMi2t-A"
      },
      "outputs": [],
      "source": [
        "def build_generator():\n",
        "  model = keras.Sequential()\n",
        "  # add layers\n",
        "  return model"
      ]
    },
    {
      "cell_type": "code",
      "source": [
        "def build_discriminator():\n",
        "  model = keras.Sequential()\n",
        "  # add layers\n",
        "  return model"
      ],
      "metadata": {
        "id": "GoPqHKIIDZxv"
      },
      "execution_count": 11,
      "outputs": []
    },
    {
      "cell_type": "code",
      "source": [
        "def build_model():\n",
        "  generator = build_generator()\n",
        "  discriminator = build_discriminator()\n",
        "  optimizer = keras.optimizers.Adam()\n",
        "  loss_function = keras.losses.SparseCategoricalCrossentropy()\n",
        "  model = keras.Sequential()\n",
        "  model.add(generator)\n",
        "  model.add(discriminator)\n",
        "  model.compile(loss=loss_function, optimizer=optimizer)\n",
        "  return model"
      ],
      "metadata": {
        "id": "RFej-uE2DgRW"
      },
      "execution_count": 12,
      "outputs": []
    }
  ]
}